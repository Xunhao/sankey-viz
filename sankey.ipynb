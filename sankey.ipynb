{
  "metadata": {
    "language_info": {
      "codemirror_mode": {
        "name": "python",
        "version": 3
      },
      "file_extension": ".py",
      "mimetype": "text/x-python",
      "name": "python",
      "nbconvert_exporter": "python",
      "pygments_lexer": "ipython3",
      "version": "3.8"
    },
    "kernelspec": {
      "name": "python",
      "display_name": "Python (Pyodide)",
      "language": "python"
    }
  },
  "nbformat_minor": 4,
  "nbformat": 4,
  "cells": [
    {
      "cell_type": "code",
      "source": "import pandas as pd\n# import plotly.graph_objects as go",
      "metadata": {
        "tags": [],
        "trusted": true
      },
      "execution_count": 1,
      "outputs": []
    },
    {
      "cell_type": "code",
      "source": "df = pd.read_csv('train.csv')",
      "metadata": {
        "trusted": true
      },
      "execution_count": 2,
      "outputs": []
    },
    {
      "cell_type": "code",
      "source": "df.head()",
      "metadata": {
        "trusted": true
      },
      "execution_count": 3,
      "outputs": [
        {
          "execution_count": 3,
          "output_type": "execute_result",
          "data": {
            "text/plain": "   PassengerId  Survived  Pclass  \\\n0            1         0       3   \n1            2         1       1   \n2            3         1       3   \n3            4         1       1   \n4            5         0       3   \n\n                                                Name     Sex   Age  SibSp  \\\n0                            Braund, Mr. Owen Harris    male  22.0      1   \n1  Cumings, Mrs. John Bradley (Florence Briggs Th...  female  38.0      1   \n2                             Heikkinen, Miss. Laina  female  26.0      0   \n3       Futrelle, Mrs. Jacques Heath (Lily May Peel)  female  35.0      1   \n4                           Allen, Mr. William Henry    male  35.0      0   \n\n   Parch            Ticket     Fare Cabin Embarked  \n0      0         A/5 21171   7.2500   NaN        S  \n1      0          PC 17599  71.2833   C85        C  \n2      0  STON/O2. 3101282   7.9250   NaN        S  \n3      0            113803  53.1000  C123        S  \n4      0            373450   8.0500   NaN        S  ",
            "text/html": "<div>\n<style scoped>\n    .dataframe tbody tr th:only-of-type {\n        vertical-align: middle;\n    }\n\n    .dataframe tbody tr th {\n        vertical-align: top;\n    }\n\n    .dataframe thead th {\n        text-align: right;\n    }\n</style>\n<table border=\"1\" class=\"dataframe\">\n  <thead>\n    <tr style=\"text-align: right;\">\n      <th></th>\n      <th>PassengerId</th>\n      <th>Survived</th>\n      <th>Pclass</th>\n      <th>Name</th>\n      <th>Sex</th>\n      <th>Age</th>\n      <th>SibSp</th>\n      <th>Parch</th>\n      <th>Ticket</th>\n      <th>Fare</th>\n      <th>Cabin</th>\n      <th>Embarked</th>\n    </tr>\n  </thead>\n  <tbody>\n    <tr>\n      <th>0</th>\n      <td>1</td>\n      <td>0</td>\n      <td>3</td>\n      <td>Braund, Mr. Owen Harris</td>\n      <td>male</td>\n      <td>22.0</td>\n      <td>1</td>\n      <td>0</td>\n      <td>A/5 21171</td>\n      <td>7.2500</td>\n      <td>NaN</td>\n      <td>S</td>\n    </tr>\n    <tr>\n      <th>1</th>\n      <td>2</td>\n      <td>1</td>\n      <td>1</td>\n      <td>Cumings, Mrs. John Bradley (Florence Briggs Th...</td>\n      <td>female</td>\n      <td>38.0</td>\n      <td>1</td>\n      <td>0</td>\n      <td>PC 17599</td>\n      <td>71.2833</td>\n      <td>C85</td>\n      <td>C</td>\n    </tr>\n    <tr>\n      <th>2</th>\n      <td>3</td>\n      <td>1</td>\n      <td>3</td>\n      <td>Heikkinen, Miss. Laina</td>\n      <td>female</td>\n      <td>26.0</td>\n      <td>0</td>\n      <td>0</td>\n      <td>STON/O2. 3101282</td>\n      <td>7.9250</td>\n      <td>NaN</td>\n      <td>S</td>\n    </tr>\n    <tr>\n      <th>3</th>\n      <td>4</td>\n      <td>1</td>\n      <td>1</td>\n      <td>Futrelle, Mrs. Jacques Heath (Lily May Peel)</td>\n      <td>female</td>\n      <td>35.0</td>\n      <td>1</td>\n      <td>0</td>\n      <td>113803</td>\n      <td>53.1000</td>\n      <td>C123</td>\n      <td>S</td>\n    </tr>\n    <tr>\n      <th>4</th>\n      <td>5</td>\n      <td>0</td>\n      <td>3</td>\n      <td>Allen, Mr. William Henry</td>\n      <td>male</td>\n      <td>35.0</td>\n      <td>0</td>\n      <td>0</td>\n      <td>373450</td>\n      <td>8.0500</td>\n      <td>NaN</td>\n      <td>S</td>\n    </tr>\n  </tbody>\n</table>\n</div>"
          },
          "metadata": {}
        }
      ]
    },
    {
      "cell_type": "code",
      "source": "# Not all columns are relevant so we will keep those we intend to analyse\ndf_trimmed = df[['Pclass', 'Sex', 'Age', 'Survived', 'Name']]\ndf_trimmed['Sex'] = df_trimmed['Sex'].str.capitalize()\n\n# Most of the columns are categorical which is ideal for a sankey visualisation except for Age. Hence, we will consider binning them into age groups which will be defined below\ndf_trimmed",
      "metadata": {
        "trusted": true
      },
      "execution_count": 4,
      "outputs": [
        {
          "name": "stderr",
          "text": "<ipython-input-4-f81805d4db81>:3: SettingWithCopyWarning: \nA value is trying to be set on a copy of a slice from a DataFrame.\nTry using .loc[row_indexer,col_indexer] = value instead\n\nSee the caveats in the documentation: https://pandas.pydata.org/pandas-docs/stable/user_guide/indexing.html#returning-a-view-versus-a-copy\n  df_trimmed['Sex'] = df_trimmed['Sex'].str.capitalize()\n",
          "output_type": "stream"
        },
        {
          "execution_count": 4,
          "output_type": "execute_result",
          "data": {
            "text/plain": "     Pclass     Sex   Age  Survived  \\\n0         3    Male  22.0         0   \n1         1  Female  38.0         1   \n2         3  Female  26.0         1   \n3         1  Female  35.0         1   \n4         3    Male  35.0         0   \n..      ...     ...   ...       ...   \n886       2    Male  27.0         0   \n887       1  Female  19.0         1   \n888       3  Female   NaN         0   \n889       1    Male  26.0         1   \n890       3    Male  32.0         0   \n\n                                                  Name  \n0                              Braund, Mr. Owen Harris  \n1    Cumings, Mrs. John Bradley (Florence Briggs Th...  \n2                               Heikkinen, Miss. Laina  \n3         Futrelle, Mrs. Jacques Heath (Lily May Peel)  \n4                             Allen, Mr. William Henry  \n..                                                 ...  \n886                              Montvila, Rev. Juozas  \n887                       Graham, Miss. Margaret Edith  \n888           Johnston, Miss. Catherine Helen \"Carrie\"  \n889                              Behr, Mr. Karl Howell  \n890                                Dooley, Mr. Patrick  \n\n[891 rows x 5 columns]",
            "text/html": "<div>\n<style scoped>\n    .dataframe tbody tr th:only-of-type {\n        vertical-align: middle;\n    }\n\n    .dataframe tbody tr th {\n        vertical-align: top;\n    }\n\n    .dataframe thead th {\n        text-align: right;\n    }\n</style>\n<table border=\"1\" class=\"dataframe\">\n  <thead>\n    <tr style=\"text-align: right;\">\n      <th></th>\n      <th>Pclass</th>\n      <th>Sex</th>\n      <th>Age</th>\n      <th>Survived</th>\n      <th>Name</th>\n    </tr>\n  </thead>\n  <tbody>\n    <tr>\n      <th>0</th>\n      <td>3</td>\n      <td>Male</td>\n      <td>22.0</td>\n      <td>0</td>\n      <td>Braund, Mr. Owen Harris</td>\n    </tr>\n    <tr>\n      <th>1</th>\n      <td>1</td>\n      <td>Female</td>\n      <td>38.0</td>\n      <td>1</td>\n      <td>Cumings, Mrs. John Bradley (Florence Briggs Th...</td>\n    </tr>\n    <tr>\n      <th>2</th>\n      <td>3</td>\n      <td>Female</td>\n      <td>26.0</td>\n      <td>1</td>\n      <td>Heikkinen, Miss. Laina</td>\n    </tr>\n    <tr>\n      <th>3</th>\n      <td>1</td>\n      <td>Female</td>\n      <td>35.0</td>\n      <td>1</td>\n      <td>Futrelle, Mrs. Jacques Heath (Lily May Peel)</td>\n    </tr>\n    <tr>\n      <th>4</th>\n      <td>3</td>\n      <td>Male</td>\n      <td>35.0</td>\n      <td>0</td>\n      <td>Allen, Mr. William Henry</td>\n    </tr>\n    <tr>\n      <th>...</th>\n      <td>...</td>\n      <td>...</td>\n      <td>...</td>\n      <td>...</td>\n      <td>...</td>\n    </tr>\n    <tr>\n      <th>886</th>\n      <td>2</td>\n      <td>Male</td>\n      <td>27.0</td>\n      <td>0</td>\n      <td>Montvila, Rev. Juozas</td>\n    </tr>\n    <tr>\n      <th>887</th>\n      <td>1</td>\n      <td>Female</td>\n      <td>19.0</td>\n      <td>1</td>\n      <td>Graham, Miss. Margaret Edith</td>\n    </tr>\n    <tr>\n      <th>888</th>\n      <td>3</td>\n      <td>Female</td>\n      <td>NaN</td>\n      <td>0</td>\n      <td>Johnston, Miss. Catherine Helen \"Carrie\"</td>\n    </tr>\n    <tr>\n      <th>889</th>\n      <td>1</td>\n      <td>Male</td>\n      <td>26.0</td>\n      <td>1</td>\n      <td>Behr, Mr. Karl Howell</td>\n    </tr>\n    <tr>\n      <th>890</th>\n      <td>3</td>\n      <td>Male</td>\n      <td>32.0</td>\n      <td>0</td>\n      <td>Dooley, Mr. Patrick</td>\n    </tr>\n  </tbody>\n</table>\n<p>891 rows × 5 columns</p>\n</div>"
          },
          "metadata": {}
        }
      ]
    },
    {
      "cell_type": "code",
      "source": "# Check for NA \ndf_trimmed.isnull().any()",
      "metadata": {
        "trusted": true
      },
      "execution_count": 5,
      "outputs": [
        {
          "execution_count": 5,
          "output_type": "execute_result",
          "data": {
            "text/plain": "Pclass      False\nSex         False\nAge          True\nSurvived    False\nName        False\ndtype: bool"
          },
          "metadata": {}
        }
      ]
    },
    {
      "cell_type": "code",
      "source": "# From here, we can see that there are 177 passengers with NULL as their age. We will clean the NULL at the binning level.\n\ndf_trimmed.groupby(['Age'], dropna = False).size()",
      "metadata": {
        "trusted": true
      },
      "execution_count": 6,
      "outputs": [
        {
          "execution_count": 6,
          "output_type": "execute_result",
          "data": {
            "text/plain": "Age\n0.42       1\n0.67       1\n0.75       2\n0.83       2\n0.92       1\n        ... \n70.50      1\n71.00      2\n74.00      1\n80.00      1\nNaN      177\nLength: 89, dtype: int64"
          },
          "metadata": {}
        }
      ]
    },
    {
      "cell_type": "code",
      "source": "# Set up binning of different age group here using the categorisation here as a guideline: https://www.nih.gov/nih-style-guide/age\n# But we will merge 'Newborns' and 'Infants' and rename 'Older Adults' as 'Senior'\n\n# Infants (1 month to 1 year)\n# Children (1 year through 12 years)\n# Adolescents (13 years through 17 years. They may also be referred to as teenagers depending on the context.)\n# Adults (18 years or older)\n# Senior (65 and older)\n\nage_bins = [0,1,12,18,65,999]\ndf_trimmed = df_trimmed.assign(AgeGroup = pd.cut(x = df_trimmed['Age'], bins = age_bins, right = True, include_lowest = False, labels = ['Infants', 'Children', 'Adolescents', 'Adults', 'Senior']))",
      "metadata": {
        "trusted": true
      },
      "execution_count": 7,
      "outputs": []
    },
    {
      "cell_type": "code",
      "source": "# Add a new categori - 'Unknown' to group all passengers without NULL as their AgeGroup\ndf_trimmed['AgeGroup'] = df_trimmed['AgeGroup'].cat.add_categories('Unknown')\ndf_trimmed['AgeGroup'] = df_trimmed['AgeGroup'].fillna('Unknown')\n\n# Check if there is anymore NULL in the AgeGrou column\ndf_trimmed[df_trimmed.AgeGroup.isna()]",
      "metadata": {
        "trusted": true
      },
      "execution_count": 8,
      "outputs": [
        {
          "execution_count": 8,
          "output_type": "execute_result",
          "data": {
            "text/plain": "Empty DataFrame\nColumns: [Pclass, Sex, Age, Survived, Name, AgeGroup]\nIndex: []",
            "text/html": "<div>\n<style scoped>\n    .dataframe tbody tr th:only-of-type {\n        vertical-align: middle;\n    }\n\n    .dataframe tbody tr th {\n        vertical-align: top;\n    }\n\n    .dataframe thead th {\n        text-align: right;\n    }\n</style>\n<table border=\"1\" class=\"dataframe\">\n  <thead>\n    <tr style=\"text-align: right;\">\n      <th></th>\n      <th>Pclass</th>\n      <th>Sex</th>\n      <th>Age</th>\n      <th>Survived</th>\n      <th>Name</th>\n      <th>AgeGroup</th>\n    </tr>\n  </thead>\n  <tbody>\n  </tbody>\n</table>\n</div>"
          },
          "metadata": {}
        }
      ]
    },
    {
      "cell_type": "code",
      "source": "df_trimmed_sankey_1 = df_trimmed.groupby(by = ['Pclass', 'AgeGroup'])['Name'].count().reset_index().rename(columns={'Pclass': 'Source', 'AgeGroup': 'Target', 'Name': 'Value'}, inplace = False)\n\n# This forms the first sankey dataframe\ndf_trimmed_sankey_1",
      "metadata": {
        "trusted": true
      },
      "execution_count": 9,
      "outputs": [
        {
          "execution_count": 9,
          "output_type": "execute_result",
          "data": {
            "text/plain": "    Source       Target  Value\n0        1      Infants      1\n1        1     Children      3\n2        1  Adolescents     12\n3        1       Adults    166\n4        1       Senior      4\n5        1      Unknown     30\n6        2      Infants      5\n7        2     Children     12\n8        2  Adolescents     12\n9        2       Adults    142\n10       2       Senior      2\n11       2      Unknown     11\n12       3      Infants      8\n13       3     Children     40\n14       3  Adolescents     46\n15       3       Adults    259\n16       3       Senior      2\n17       3      Unknown    136",
            "text/html": "<div>\n<style scoped>\n    .dataframe tbody tr th:only-of-type {\n        vertical-align: middle;\n    }\n\n    .dataframe tbody tr th {\n        vertical-align: top;\n    }\n\n    .dataframe thead th {\n        text-align: right;\n    }\n</style>\n<table border=\"1\" class=\"dataframe\">\n  <thead>\n    <tr style=\"text-align: right;\">\n      <th></th>\n      <th>Source</th>\n      <th>Target</th>\n      <th>Value</th>\n    </tr>\n  </thead>\n  <tbody>\n    <tr>\n      <th>0</th>\n      <td>1</td>\n      <td>Infants</td>\n      <td>1</td>\n    </tr>\n    <tr>\n      <th>1</th>\n      <td>1</td>\n      <td>Children</td>\n      <td>3</td>\n    </tr>\n    <tr>\n      <th>2</th>\n      <td>1</td>\n      <td>Adolescents</td>\n      <td>12</td>\n    </tr>\n    <tr>\n      <th>3</th>\n      <td>1</td>\n      <td>Adults</td>\n      <td>166</td>\n    </tr>\n    <tr>\n      <th>4</th>\n      <td>1</td>\n      <td>Senior</td>\n      <td>4</td>\n    </tr>\n    <tr>\n      <th>5</th>\n      <td>1</td>\n      <td>Unknown</td>\n      <td>30</td>\n    </tr>\n    <tr>\n      <th>6</th>\n      <td>2</td>\n      <td>Infants</td>\n      <td>5</td>\n    </tr>\n    <tr>\n      <th>7</th>\n      <td>2</td>\n      <td>Children</td>\n      <td>12</td>\n    </tr>\n    <tr>\n      <th>8</th>\n      <td>2</td>\n      <td>Adolescents</td>\n      <td>12</td>\n    </tr>\n    <tr>\n      <th>9</th>\n      <td>2</td>\n      <td>Adults</td>\n      <td>142</td>\n    </tr>\n    <tr>\n      <th>10</th>\n      <td>2</td>\n      <td>Senior</td>\n      <td>2</td>\n    </tr>\n    <tr>\n      <th>11</th>\n      <td>2</td>\n      <td>Unknown</td>\n      <td>11</td>\n    </tr>\n    <tr>\n      <th>12</th>\n      <td>3</td>\n      <td>Infants</td>\n      <td>8</td>\n    </tr>\n    <tr>\n      <th>13</th>\n      <td>3</td>\n      <td>Children</td>\n      <td>40</td>\n    </tr>\n    <tr>\n      <th>14</th>\n      <td>3</td>\n      <td>Adolescents</td>\n      <td>46</td>\n    </tr>\n    <tr>\n      <th>15</th>\n      <td>3</td>\n      <td>Adults</td>\n      <td>259</td>\n    </tr>\n    <tr>\n      <th>16</th>\n      <td>3</td>\n      <td>Senior</td>\n      <td>2</td>\n    </tr>\n    <tr>\n      <th>17</th>\n      <td>3</td>\n      <td>Unknown</td>\n      <td>136</td>\n    </tr>\n  </tbody>\n</table>\n</div>"
          },
          "metadata": {}
        }
      ]
    },
    {
      "cell_type": "code",
      "source": "# Map the values within the Source column to their respective Pclasses\ndf_trimmed_sankey_1['Source'] = df_trimmed_sankey_1.Source.map({1: 'Pclass1', 2: 'Pclass2', 3: 'Pclass3'})\n\ndf_trimmed_sankey_1",
      "metadata": {
        "trusted": true
      },
      "execution_count": 10,
      "outputs": [
        {
          "execution_count": 10,
          "output_type": "execute_result",
          "data": {
            "text/plain": "     Source       Target  Value\n0   Pclass1      Infants      1\n1   Pclass1     Children      3\n2   Pclass1  Adolescents     12\n3   Pclass1       Adults    166\n4   Pclass1       Senior      4\n5   Pclass1      Unknown     30\n6   Pclass2      Infants      5\n7   Pclass2     Children     12\n8   Pclass2  Adolescents     12\n9   Pclass2       Adults    142\n10  Pclass2       Senior      2\n11  Pclass2      Unknown     11\n12  Pclass3      Infants      8\n13  Pclass3     Children     40\n14  Pclass3  Adolescents     46\n15  Pclass3       Adults    259\n16  Pclass3       Senior      2\n17  Pclass3      Unknown    136",
            "text/html": "<div>\n<style scoped>\n    .dataframe tbody tr th:only-of-type {\n        vertical-align: middle;\n    }\n\n    .dataframe tbody tr th {\n        vertical-align: top;\n    }\n\n    .dataframe thead th {\n        text-align: right;\n    }\n</style>\n<table border=\"1\" class=\"dataframe\">\n  <thead>\n    <tr style=\"text-align: right;\">\n      <th></th>\n      <th>Source</th>\n      <th>Target</th>\n      <th>Value</th>\n    </tr>\n  </thead>\n  <tbody>\n    <tr>\n      <th>0</th>\n      <td>Pclass1</td>\n      <td>Infants</td>\n      <td>1</td>\n    </tr>\n    <tr>\n      <th>1</th>\n      <td>Pclass1</td>\n      <td>Children</td>\n      <td>3</td>\n    </tr>\n    <tr>\n      <th>2</th>\n      <td>Pclass1</td>\n      <td>Adolescents</td>\n      <td>12</td>\n    </tr>\n    <tr>\n      <th>3</th>\n      <td>Pclass1</td>\n      <td>Adults</td>\n      <td>166</td>\n    </tr>\n    <tr>\n      <th>4</th>\n      <td>Pclass1</td>\n      <td>Senior</td>\n      <td>4</td>\n    </tr>\n    <tr>\n      <th>5</th>\n      <td>Pclass1</td>\n      <td>Unknown</td>\n      <td>30</td>\n    </tr>\n    <tr>\n      <th>6</th>\n      <td>Pclass2</td>\n      <td>Infants</td>\n      <td>5</td>\n    </tr>\n    <tr>\n      <th>7</th>\n      <td>Pclass2</td>\n      <td>Children</td>\n      <td>12</td>\n    </tr>\n    <tr>\n      <th>8</th>\n      <td>Pclass2</td>\n      <td>Adolescents</td>\n      <td>12</td>\n    </tr>\n    <tr>\n      <th>9</th>\n      <td>Pclass2</td>\n      <td>Adults</td>\n      <td>142</td>\n    </tr>\n    <tr>\n      <th>10</th>\n      <td>Pclass2</td>\n      <td>Senior</td>\n      <td>2</td>\n    </tr>\n    <tr>\n      <th>11</th>\n      <td>Pclass2</td>\n      <td>Unknown</td>\n      <td>11</td>\n    </tr>\n    <tr>\n      <th>12</th>\n      <td>Pclass3</td>\n      <td>Infants</td>\n      <td>8</td>\n    </tr>\n    <tr>\n      <th>13</th>\n      <td>Pclass3</td>\n      <td>Children</td>\n      <td>40</td>\n    </tr>\n    <tr>\n      <th>14</th>\n      <td>Pclass3</td>\n      <td>Adolescents</td>\n      <td>46</td>\n    </tr>\n    <tr>\n      <th>15</th>\n      <td>Pclass3</td>\n      <td>Adults</td>\n      <td>259</td>\n    </tr>\n    <tr>\n      <th>16</th>\n      <td>Pclass3</td>\n      <td>Senior</td>\n      <td>2</td>\n    </tr>\n    <tr>\n      <th>17</th>\n      <td>Pclass3</td>\n      <td>Unknown</td>\n      <td>136</td>\n    </tr>\n  </tbody>\n</table>\n</div>"
          },
          "metadata": {}
        }
      ]
    },
    {
      "cell_type": "code",
      "source": "df_trimmed_sankey_2 = df_trimmed.groupby(by = ['AgeGroup', 'Sex'])['Name'].count().reset_index().rename(columns={'AgeGroup': 'Source', 'Sex': 'Target', 'Name': 'Value'}, inplace = False)\n\n# This forms the second sankey dataframe\ndf_trimmed_sankey_2",
      "metadata": {
        "trusted": true
      },
      "execution_count": 11,
      "outputs": [
        {
          "execution_count": 11,
          "output_type": "execute_result",
          "data": {
            "text/plain": "         Source  Target  Value\n0       Infants  Female      4\n1       Infants    Male     10\n2      Children  Female     28\n3      Children    Male     27\n4   Adolescents  Female     36\n5   Adolescents    Male     34\n6        Adults  Female    193\n7        Adults    Male    374\n8        Senior  Female      0\n9        Senior    Male      8\n10      Unknown  Female     53\n11      Unknown    Male    124",
            "text/html": "<div>\n<style scoped>\n    .dataframe tbody tr th:only-of-type {\n        vertical-align: middle;\n    }\n\n    .dataframe tbody tr th {\n        vertical-align: top;\n    }\n\n    .dataframe thead th {\n        text-align: right;\n    }\n</style>\n<table border=\"1\" class=\"dataframe\">\n  <thead>\n    <tr style=\"text-align: right;\">\n      <th></th>\n      <th>Source</th>\n      <th>Target</th>\n      <th>Value</th>\n    </tr>\n  </thead>\n  <tbody>\n    <tr>\n      <th>0</th>\n      <td>Infants</td>\n      <td>Female</td>\n      <td>4</td>\n    </tr>\n    <tr>\n      <th>1</th>\n      <td>Infants</td>\n      <td>Male</td>\n      <td>10</td>\n    </tr>\n    <tr>\n      <th>2</th>\n      <td>Children</td>\n      <td>Female</td>\n      <td>28</td>\n    </tr>\n    <tr>\n      <th>3</th>\n      <td>Children</td>\n      <td>Male</td>\n      <td>27</td>\n    </tr>\n    <tr>\n      <th>4</th>\n      <td>Adolescents</td>\n      <td>Female</td>\n      <td>36</td>\n    </tr>\n    <tr>\n      <th>5</th>\n      <td>Adolescents</td>\n      <td>Male</td>\n      <td>34</td>\n    </tr>\n    <tr>\n      <th>6</th>\n      <td>Adults</td>\n      <td>Female</td>\n      <td>193</td>\n    </tr>\n    <tr>\n      <th>7</th>\n      <td>Adults</td>\n      <td>Male</td>\n      <td>374</td>\n    </tr>\n    <tr>\n      <th>8</th>\n      <td>Senior</td>\n      <td>Female</td>\n      <td>0</td>\n    </tr>\n    <tr>\n      <th>9</th>\n      <td>Senior</td>\n      <td>Male</td>\n      <td>8</td>\n    </tr>\n    <tr>\n      <th>10</th>\n      <td>Unknown</td>\n      <td>Female</td>\n      <td>53</td>\n    </tr>\n    <tr>\n      <th>11</th>\n      <td>Unknown</td>\n      <td>Male</td>\n      <td>124</td>\n    </tr>\n  </tbody>\n</table>\n</div>"
          },
          "metadata": {}
        }
      ]
    },
    {
      "cell_type": "code",
      "source": "df_trimmed_sankey_3 = df_trimmed.groupby(by = ['Sex', 'Survived'])['Name'].count().reset_index().rename(columns={'Sex': 'Source', 'Survived': 'Target', 'Name': 'Value'}, inplace = False)\n\n# This forms the third sankey dataframe\ndf_trimmed_sankey_3",
      "metadata": {
        "trusted": true
      },
      "execution_count": 12,
      "outputs": [
        {
          "execution_count": 12,
          "output_type": "execute_result",
          "data": {
            "text/plain": "   Source  Target  Value\n0  Female       0     81\n1  Female       1    233\n2    Male       0    468\n3    Male       1    109",
            "text/html": "<div>\n<style scoped>\n    .dataframe tbody tr th:only-of-type {\n        vertical-align: middle;\n    }\n\n    .dataframe tbody tr th {\n        vertical-align: top;\n    }\n\n    .dataframe thead th {\n        text-align: right;\n    }\n</style>\n<table border=\"1\" class=\"dataframe\">\n  <thead>\n    <tr style=\"text-align: right;\">\n      <th></th>\n      <th>Source</th>\n      <th>Target</th>\n      <th>Value</th>\n    </tr>\n  </thead>\n  <tbody>\n    <tr>\n      <th>0</th>\n      <td>Female</td>\n      <td>0</td>\n      <td>81</td>\n    </tr>\n    <tr>\n      <th>1</th>\n      <td>Female</td>\n      <td>1</td>\n      <td>233</td>\n    </tr>\n    <tr>\n      <th>2</th>\n      <td>Male</td>\n      <td>0</td>\n      <td>468</td>\n    </tr>\n    <tr>\n      <th>3</th>\n      <td>Male</td>\n      <td>1</td>\n      <td>109</td>\n    </tr>\n  </tbody>\n</table>\n</div>"
          },
          "metadata": {}
        }
      ]
    },
    {
      "cell_type": "code",
      "source": "# Map the values within the Target column to their respective Survival Status\ndf_trimmed_sankey_3['Target'] = df_trimmed_sankey_3.Target.map({0: 'Died', 1: 'Survived'})\n\ndf_trimmed_sankey_3",
      "metadata": {
        "trusted": true
      },
      "execution_count": 13,
      "outputs": [
        {
          "execution_count": 13,
          "output_type": "execute_result",
          "data": {
            "text/plain": "   Source    Target  Value\n0  Female      Died     81\n1  Female  Survived    233\n2    Male      Died    468\n3    Male  Survived    109",
            "text/html": "<div>\n<style scoped>\n    .dataframe tbody tr th:only-of-type {\n        vertical-align: middle;\n    }\n\n    .dataframe tbody tr th {\n        vertical-align: top;\n    }\n\n    .dataframe thead th {\n        text-align: right;\n    }\n</style>\n<table border=\"1\" class=\"dataframe\">\n  <thead>\n    <tr style=\"text-align: right;\">\n      <th></th>\n      <th>Source</th>\n      <th>Target</th>\n      <th>Value</th>\n    </tr>\n  </thead>\n  <tbody>\n    <tr>\n      <th>0</th>\n      <td>Female</td>\n      <td>Died</td>\n      <td>81</td>\n    </tr>\n    <tr>\n      <th>1</th>\n      <td>Female</td>\n      <td>Survived</td>\n      <td>233</td>\n    </tr>\n    <tr>\n      <th>2</th>\n      <td>Male</td>\n      <td>Died</td>\n      <td>468</td>\n    </tr>\n    <tr>\n      <th>3</th>\n      <td>Male</td>\n      <td>Survived</td>\n      <td>109</td>\n    </tr>\n  </tbody>\n</table>\n</div>"
          },
          "metadata": {}
        }
      ]
    },
    {
      "cell_type": "code",
      "source": "# Combine all sankey dataframe together\nsankey_main = pd.concat([df_trimmed_sankey_1, df_trimmed_sankey_2, df_trimmed_sankey_3], axis = 0)\n\n# We now need to manipulate the dataset in a way that plotly is able to understand in order to generate the Alluvial diagram\nsankey_main",
      "metadata": {
        "trusted": true
      },
      "execution_count": 14,
      "outputs": [
        {
          "execution_count": 14,
          "output_type": "execute_result",
          "data": {
            "text/plain": "         Source       Target  Value\n0       Pclass1      Infants      1\n1       Pclass1     Children      3\n2       Pclass1  Adolescents     12\n3       Pclass1       Adults    166\n4       Pclass1       Senior      4\n5       Pclass1      Unknown     30\n6       Pclass2      Infants      5\n7       Pclass2     Children     12\n8       Pclass2  Adolescents     12\n9       Pclass2       Adults    142\n10      Pclass2       Senior      2\n11      Pclass2      Unknown     11\n12      Pclass3      Infants      8\n13      Pclass3     Children     40\n14      Pclass3  Adolescents     46\n15      Pclass3       Adults    259\n16      Pclass3       Senior      2\n17      Pclass3      Unknown    136\n0       Infants       Female      4\n1       Infants         Male     10\n2      Children       Female     28\n3      Children         Male     27\n4   Adolescents       Female     36\n5   Adolescents         Male     34\n6        Adults       Female    193\n7        Adults         Male    374\n8        Senior       Female      0\n9        Senior         Male      8\n10      Unknown       Female     53\n11      Unknown         Male    124\n0        Female         Died     81\n1        Female     Survived    233\n2          Male         Died    468\n3          Male     Survived    109",
            "text/html": "<div>\n<style scoped>\n    .dataframe tbody tr th:only-of-type {\n        vertical-align: middle;\n    }\n\n    .dataframe tbody tr th {\n        vertical-align: top;\n    }\n\n    .dataframe thead th {\n        text-align: right;\n    }\n</style>\n<table border=\"1\" class=\"dataframe\">\n  <thead>\n    <tr style=\"text-align: right;\">\n      <th></th>\n      <th>Source</th>\n      <th>Target</th>\n      <th>Value</th>\n    </tr>\n  </thead>\n  <tbody>\n    <tr>\n      <th>0</th>\n      <td>Pclass1</td>\n      <td>Infants</td>\n      <td>1</td>\n    </tr>\n    <tr>\n      <th>1</th>\n      <td>Pclass1</td>\n      <td>Children</td>\n      <td>3</td>\n    </tr>\n    <tr>\n      <th>2</th>\n      <td>Pclass1</td>\n      <td>Adolescents</td>\n      <td>12</td>\n    </tr>\n    <tr>\n      <th>3</th>\n      <td>Pclass1</td>\n      <td>Adults</td>\n      <td>166</td>\n    </tr>\n    <tr>\n      <th>4</th>\n      <td>Pclass1</td>\n      <td>Senior</td>\n      <td>4</td>\n    </tr>\n    <tr>\n      <th>5</th>\n      <td>Pclass1</td>\n      <td>Unknown</td>\n      <td>30</td>\n    </tr>\n    <tr>\n      <th>6</th>\n      <td>Pclass2</td>\n      <td>Infants</td>\n      <td>5</td>\n    </tr>\n    <tr>\n      <th>7</th>\n      <td>Pclass2</td>\n      <td>Children</td>\n      <td>12</td>\n    </tr>\n    <tr>\n      <th>8</th>\n      <td>Pclass2</td>\n      <td>Adolescents</td>\n      <td>12</td>\n    </tr>\n    <tr>\n      <th>9</th>\n      <td>Pclass2</td>\n      <td>Adults</td>\n      <td>142</td>\n    </tr>\n    <tr>\n      <th>10</th>\n      <td>Pclass2</td>\n      <td>Senior</td>\n      <td>2</td>\n    </tr>\n    <tr>\n      <th>11</th>\n      <td>Pclass2</td>\n      <td>Unknown</td>\n      <td>11</td>\n    </tr>\n    <tr>\n      <th>12</th>\n      <td>Pclass3</td>\n      <td>Infants</td>\n      <td>8</td>\n    </tr>\n    <tr>\n      <th>13</th>\n      <td>Pclass3</td>\n      <td>Children</td>\n      <td>40</td>\n    </tr>\n    <tr>\n      <th>14</th>\n      <td>Pclass3</td>\n      <td>Adolescents</td>\n      <td>46</td>\n    </tr>\n    <tr>\n      <th>15</th>\n      <td>Pclass3</td>\n      <td>Adults</td>\n      <td>259</td>\n    </tr>\n    <tr>\n      <th>16</th>\n      <td>Pclass3</td>\n      <td>Senior</td>\n      <td>2</td>\n    </tr>\n    <tr>\n      <th>17</th>\n      <td>Pclass3</td>\n      <td>Unknown</td>\n      <td>136</td>\n    </tr>\n    <tr>\n      <th>0</th>\n      <td>Infants</td>\n      <td>Female</td>\n      <td>4</td>\n    </tr>\n    <tr>\n      <th>1</th>\n      <td>Infants</td>\n      <td>Male</td>\n      <td>10</td>\n    </tr>\n    <tr>\n      <th>2</th>\n      <td>Children</td>\n      <td>Female</td>\n      <td>28</td>\n    </tr>\n    <tr>\n      <th>3</th>\n      <td>Children</td>\n      <td>Male</td>\n      <td>27</td>\n    </tr>\n    <tr>\n      <th>4</th>\n      <td>Adolescents</td>\n      <td>Female</td>\n      <td>36</td>\n    </tr>\n    <tr>\n      <th>5</th>\n      <td>Adolescents</td>\n      <td>Male</td>\n      <td>34</td>\n    </tr>\n    <tr>\n      <th>6</th>\n      <td>Adults</td>\n      <td>Female</td>\n      <td>193</td>\n    </tr>\n    <tr>\n      <th>7</th>\n      <td>Adults</td>\n      <td>Male</td>\n      <td>374</td>\n    </tr>\n    <tr>\n      <th>8</th>\n      <td>Senior</td>\n      <td>Female</td>\n      <td>0</td>\n    </tr>\n    <tr>\n      <th>9</th>\n      <td>Senior</td>\n      <td>Male</td>\n      <td>8</td>\n    </tr>\n    <tr>\n      <th>10</th>\n      <td>Unknown</td>\n      <td>Female</td>\n      <td>53</td>\n    </tr>\n    <tr>\n      <th>11</th>\n      <td>Unknown</td>\n      <td>Male</td>\n      <td>124</td>\n    </tr>\n    <tr>\n      <th>0</th>\n      <td>Female</td>\n      <td>Died</td>\n      <td>81</td>\n    </tr>\n    <tr>\n      <th>1</th>\n      <td>Female</td>\n      <td>Survived</td>\n      <td>233</td>\n    </tr>\n    <tr>\n      <th>2</th>\n      <td>Male</td>\n      <td>Died</td>\n      <td>468</td>\n    </tr>\n    <tr>\n      <th>3</th>\n      <td>Male</td>\n      <td>Survived</td>\n      <td>109</td>\n    </tr>\n  </tbody>\n</table>\n</div>"
          },
          "metadata": {}
        }
      ]
    },
    {
      "cell_type": "code",
      "source": "# This allows us to retrieve the unique categorical values under the Source and Target columns\nunique_source_target = list(pd.unique(list(sankey_main[['Source', 'Target']].values.ravel('K'))))\n\n# We will use this for the mapping dictionary later\nunique_source_target",
      "metadata": {
        "trusted": true
      },
      "execution_count": 15,
      "outputs": [
        {
          "execution_count": 15,
          "output_type": "execute_result",
          "data": {
            "text/plain": "['Pclass1',\n 'Pclass2',\n 'Pclass3',\n 'Infants',\n 'Children',\n 'Adolescents',\n 'Adults',\n 'Senior',\n 'Unknown',\n 'Female',\n 'Male',\n 'Died',\n 'Survived']"
          },
          "metadata": {}
        }
      ]
    },
    {
      "cell_type": "code",
      "source": "# This allows us to assign a unique value to each categorical value\nmapping_dict = {k:v for v, k in enumerate(unique_source_target)}\n\nmapping_dict",
      "metadata": {
        "trusted": true
      },
      "execution_count": 16,
      "outputs": [
        {
          "execution_count": 16,
          "output_type": "execute_result",
          "data": {
            "text/plain": "{'Pclass1': 0,\n 'Pclass2': 1,\n 'Pclass3': 2,\n 'Infants': 3,\n 'Children': 4,\n 'Adolescents': 5,\n 'Adults': 6,\n 'Senior': 7,\n 'Unknown': 8,\n 'Female': 9,\n 'Male': 10,\n 'Died': 11,\n 'Survived': 12}"
          },
          "metadata": {}
        }
      ]
    },
    {
      "cell_type": "code",
      "source": "# We will now apply the mapping dictionary back to the Source and Target column\nsankey_main['Source'] = sankey_main['Source'].map(mapping_dict)\nsankey_main['Target'] = sankey_main['Target'].map(mapping_dict)\n\nsankey_main",
      "metadata": {
        "trusted": true
      },
      "execution_count": 17,
      "outputs": [
        {
          "execution_count": 17,
          "output_type": "execute_result",
          "data": {
            "text/plain": "    Source  Target  Value\n0        0       3      1\n1        0       4      3\n2        0       5     12\n3        0       6    166\n4        0       7      4\n5        0       8     30\n6        1       3      5\n7        1       4     12\n8        1       5     12\n9        1       6    142\n10       1       7      2\n11       1       8     11\n12       2       3      8\n13       2       4     40\n14       2       5     46\n15       2       6    259\n16       2       7      2\n17       2       8    136\n0        3       9      4\n1        3      10     10\n2        4       9     28\n3        4      10     27\n4        5       9     36\n5        5      10     34\n6        6       9    193\n7        6      10    374\n8        7       9      0\n9        7      10      8\n10       8       9     53\n11       8      10    124\n0        9      11     81\n1        9      12    233\n2       10      11    468\n3       10      12    109",
            "text/html": "<div>\n<style scoped>\n    .dataframe tbody tr th:only-of-type {\n        vertical-align: middle;\n    }\n\n    .dataframe tbody tr th {\n        vertical-align: top;\n    }\n\n    .dataframe thead th {\n        text-align: right;\n    }\n</style>\n<table border=\"1\" class=\"dataframe\">\n  <thead>\n    <tr style=\"text-align: right;\">\n      <th></th>\n      <th>Source</th>\n      <th>Target</th>\n      <th>Value</th>\n    </tr>\n  </thead>\n  <tbody>\n    <tr>\n      <th>0</th>\n      <td>0</td>\n      <td>3</td>\n      <td>1</td>\n    </tr>\n    <tr>\n      <th>1</th>\n      <td>0</td>\n      <td>4</td>\n      <td>3</td>\n    </tr>\n    <tr>\n      <th>2</th>\n      <td>0</td>\n      <td>5</td>\n      <td>12</td>\n    </tr>\n    <tr>\n      <th>3</th>\n      <td>0</td>\n      <td>6</td>\n      <td>166</td>\n    </tr>\n    <tr>\n      <th>4</th>\n      <td>0</td>\n      <td>7</td>\n      <td>4</td>\n    </tr>\n    <tr>\n      <th>5</th>\n      <td>0</td>\n      <td>8</td>\n      <td>30</td>\n    </tr>\n    <tr>\n      <th>6</th>\n      <td>1</td>\n      <td>3</td>\n      <td>5</td>\n    </tr>\n    <tr>\n      <th>7</th>\n      <td>1</td>\n      <td>4</td>\n      <td>12</td>\n    </tr>\n    <tr>\n      <th>8</th>\n      <td>1</td>\n      <td>5</td>\n      <td>12</td>\n    </tr>\n    <tr>\n      <th>9</th>\n      <td>1</td>\n      <td>6</td>\n      <td>142</td>\n    </tr>\n    <tr>\n      <th>10</th>\n      <td>1</td>\n      <td>7</td>\n      <td>2</td>\n    </tr>\n    <tr>\n      <th>11</th>\n      <td>1</td>\n      <td>8</td>\n      <td>11</td>\n    </tr>\n    <tr>\n      <th>12</th>\n      <td>2</td>\n      <td>3</td>\n      <td>8</td>\n    </tr>\n    <tr>\n      <th>13</th>\n      <td>2</td>\n      <td>4</td>\n      <td>40</td>\n    </tr>\n    <tr>\n      <th>14</th>\n      <td>2</td>\n      <td>5</td>\n      <td>46</td>\n    </tr>\n    <tr>\n      <th>15</th>\n      <td>2</td>\n      <td>6</td>\n      <td>259</td>\n    </tr>\n    <tr>\n      <th>16</th>\n      <td>2</td>\n      <td>7</td>\n      <td>2</td>\n    </tr>\n    <tr>\n      <th>17</th>\n      <td>2</td>\n      <td>8</td>\n      <td>136</td>\n    </tr>\n    <tr>\n      <th>0</th>\n      <td>3</td>\n      <td>9</td>\n      <td>4</td>\n    </tr>\n    <tr>\n      <th>1</th>\n      <td>3</td>\n      <td>10</td>\n      <td>10</td>\n    </tr>\n    <tr>\n      <th>2</th>\n      <td>4</td>\n      <td>9</td>\n      <td>28</td>\n    </tr>\n    <tr>\n      <th>3</th>\n      <td>4</td>\n      <td>10</td>\n      <td>27</td>\n    </tr>\n    <tr>\n      <th>4</th>\n      <td>5</td>\n      <td>9</td>\n      <td>36</td>\n    </tr>\n    <tr>\n      <th>5</th>\n      <td>5</td>\n      <td>10</td>\n      <td>34</td>\n    </tr>\n    <tr>\n      <th>6</th>\n      <td>6</td>\n      <td>9</td>\n      <td>193</td>\n    </tr>\n    <tr>\n      <th>7</th>\n      <td>6</td>\n      <td>10</td>\n      <td>374</td>\n    </tr>\n    <tr>\n      <th>8</th>\n      <td>7</td>\n      <td>9</td>\n      <td>0</td>\n    </tr>\n    <tr>\n      <th>9</th>\n      <td>7</td>\n      <td>10</td>\n      <td>8</td>\n    </tr>\n    <tr>\n      <th>10</th>\n      <td>8</td>\n      <td>9</td>\n      <td>53</td>\n    </tr>\n    <tr>\n      <th>11</th>\n      <td>8</td>\n      <td>10</td>\n      <td>124</td>\n    </tr>\n    <tr>\n      <th>0</th>\n      <td>9</td>\n      <td>11</td>\n      <td>81</td>\n    </tr>\n    <tr>\n      <th>1</th>\n      <td>9</td>\n      <td>12</td>\n      <td>233</td>\n    </tr>\n    <tr>\n      <th>2</th>\n      <td>10</td>\n      <td>11</td>\n      <td>468</td>\n    </tr>\n    <tr>\n      <th>3</th>\n      <td>10</td>\n      <td>12</td>\n      <td>109</td>\n    </tr>\n  </tbody>\n</table>\n</div>"
          },
          "metadata": {}
        }
      ]
    },
    {
      "cell_type": "code",
      "source": "sankey_main = sankey_main.to_dict(orient = 'list')\n\nsankey_main",
      "metadata": {
        "trusted": true
      },
      "execution_count": 18,
      "outputs": [
        {
          "execution_count": 18,
          "output_type": "execute_result",
          "data": {
            "text/plain": "{'Source': [0,\n  0,\n  0,\n  0,\n  0,\n  0,\n  1,\n  1,\n  1,\n  1,\n  1,\n  1,\n  2,\n  2,\n  2,\n  2,\n  2,\n  2,\n  3,\n  3,\n  4,\n  4,\n  5,\n  5,\n  6,\n  6,\n  7,\n  7,\n  8,\n  8,\n  9,\n  9,\n  10,\n  10],\n 'Target': [3,\n  4,\n  5,\n  6,\n  7,\n  8,\n  3,\n  4,\n  5,\n  6,\n  7,\n  8,\n  3,\n  4,\n  5,\n  6,\n  7,\n  8,\n  9,\n  10,\n  9,\n  10,\n  9,\n  10,\n  9,\n  10,\n  9,\n  10,\n  9,\n  10,\n  11,\n  12,\n  11,\n  12],\n 'Value': [1,\n  3,\n  12,\n  166,\n  4,\n  30,\n  5,\n  12,\n  12,\n  142,\n  2,\n  11,\n  8,\n  40,\n  46,\n  259,\n  2,\n  136,\n  4,\n  10,\n  28,\n  27,\n  36,\n  34,\n  193,\n  374,\n  0,\n  8,\n  53,\n  124,\n  81,\n  233,\n  468,\n  109]}"
          },
          "metadata": {}
        }
      ]
    },
    {
      "cell_type": "markdown",
      "source": "As I am currently using Jupyterlite which doesn't have Plotly installed as a module. I am unable to build the Alluvial diagram here. All the data exploration and manipulation has been completed here. From this point onwards, I will be transferring the minimum required code to Sublime Text 3 in order to develop the chart there using Plotly.",
      "metadata": {
        "jp-MarkdownHeadingCollapsed": true,
        "tags": []
      }
    }
  ]
}