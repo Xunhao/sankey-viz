{
  "metadata": {
    "language_info": {
      "codemirror_mode": {
        "name": "python",
        "version": 3
      },
      "file_extension": ".py",
      "mimetype": "text/x-python",
      "name": "python",
      "nbconvert_exporter": "python",
      "pygments_lexer": "ipython3",
      "version": "3.8"
    },
    "kernelspec": {
      "name": "python",
      "display_name": "Python (Pyodide)",
      "language": "python"
    }
  },
  "nbformat_minor": 4,
  "nbformat": 4,
  "cells": [
    {
      "cell_type": "code",
      "source": "import pandas as pd\n# import plotly.graph_objects as go",
      "metadata": {
        "tags": [],
        "trusted": true
      },
      "execution_count": 1,
      "outputs": []
    },
    {
      "cell_type": "code",
      "source": "df = pd.read_csv('train.csv')",
      "metadata": {
        "trusted": true
      },
      "execution_count": 2,
      "outputs": []
    },
    {
      "cell_type": "code",
      "source": "df.head()",
      "metadata": {
        "trusted": true
      },
      "execution_count": 3,
      "outputs": [
        {
          "execution_count": 3,
          "output_type": "execute_result",
          "data": {
            "text/plain": "   PassengerId  Survived  Pclass  \\\n0            1         0       3   \n1            2         1       1   \n2            3         1       3   \n3            4         1       1   \n4            5         0       3   \n\n                                                Name     Sex   Age  SibSp  \\\n0                            Braund, Mr. Owen Harris    male  22.0      1   \n1  Cumings, Mrs. John Bradley (Florence Briggs Th...  female  38.0      1   \n2                             Heikkinen, Miss. Laina  female  26.0      0   \n3       Futrelle, Mrs. Jacques Heath (Lily May Peel)  female  35.0      1   \n4                           Allen, Mr. William Henry    male  35.0      0   \n\n   Parch            Ticket     Fare Cabin Embarked  \n0      0         A/5 21171   7.2500   NaN        S  \n1      0          PC 17599  71.2833   C85        C  \n2      0  STON/O2. 3101282   7.9250   NaN        S  \n3      0            113803  53.1000  C123        S  \n4      0            373450   8.0500   NaN        S  ",
            "text/html": "<div>\n<style scoped>\n    .dataframe tbody tr th:only-of-type {\n        vertical-align: middle;\n    }\n\n    .dataframe tbody tr th {\n        vertical-align: top;\n    }\n\n    .dataframe thead th {\n        text-align: right;\n    }\n</style>\n<table border=\"1\" class=\"dataframe\">\n  <thead>\n    <tr style=\"text-align: right;\">\n      <th></th>\n      <th>PassengerId</th>\n      <th>Survived</th>\n      <th>Pclass</th>\n      <th>Name</th>\n      <th>Sex</th>\n      <th>Age</th>\n      <th>SibSp</th>\n      <th>Parch</th>\n      <th>Ticket</th>\n      <th>Fare</th>\n      <th>Cabin</th>\n      <th>Embarked</th>\n    </tr>\n  </thead>\n  <tbody>\n    <tr>\n      <th>0</th>\n      <td>1</td>\n      <td>0</td>\n      <td>3</td>\n      <td>Braund, Mr. Owen Harris</td>\n      <td>male</td>\n      <td>22.0</td>\n      <td>1</td>\n      <td>0</td>\n      <td>A/5 21171</td>\n      <td>7.2500</td>\n      <td>NaN</td>\n      <td>S</td>\n    </tr>\n    <tr>\n      <th>1</th>\n      <td>2</td>\n      <td>1</td>\n      <td>1</td>\n      <td>Cumings, Mrs. John Bradley (Florence Briggs Th...</td>\n      <td>female</td>\n      <td>38.0</td>\n      <td>1</td>\n      <td>0</td>\n      <td>PC 17599</td>\n      <td>71.2833</td>\n      <td>C85</td>\n      <td>C</td>\n    </tr>\n    <tr>\n      <th>2</th>\n      <td>3</td>\n      <td>1</td>\n      <td>3</td>\n      <td>Heikkinen, Miss. Laina</td>\n      <td>female</td>\n      <td>26.0</td>\n      <td>0</td>\n      <td>0</td>\n      <td>STON/O2. 3101282</td>\n      <td>7.9250</td>\n      <td>NaN</td>\n      <td>S</td>\n    </tr>\n    <tr>\n      <th>3</th>\n      <td>4</td>\n      <td>1</td>\n      <td>1</td>\n      <td>Futrelle, Mrs. Jacques Heath (Lily May Peel)</td>\n      <td>female</td>\n      <td>35.0</td>\n      <td>1</td>\n      <td>0</td>\n      <td>113803</td>\n      <td>53.1000</td>\n      <td>C123</td>\n      <td>S</td>\n    </tr>\n    <tr>\n      <th>4</th>\n      <td>5</td>\n      <td>0</td>\n      <td>3</td>\n      <td>Allen, Mr. William Henry</td>\n      <td>male</td>\n      <td>35.0</td>\n      <td>0</td>\n      <td>0</td>\n      <td>373450</td>\n      <td>8.0500</td>\n      <td>NaN</td>\n      <td>S</td>\n    </tr>\n  </tbody>\n</table>\n</div>"
          },
          "metadata": {}
        }
      ]
    },
    {
      "cell_type": "code",
      "source": "# Not all columns are relevant so we will keep those we intend to analyse\ndf_trimmed = df[['Pclass', 'Sex', 'Age', 'Survived']]\ndf_trimmed['Sex'] = df_trimmed['Sex'].str.capitalize()\n\n# Most of the columns are categorical which is ideal for a sankey visualisation except for Age. Hence, we will consider binning them into age groups which will be defined below\ndf_trimmed",
      "metadata": {
        "trusted": true
      },
      "execution_count": 4,
      "outputs": [
        {
          "name": "stderr",
          "text": "<ipython-input-4-da4a21599541>:3: SettingWithCopyWarning: \nA value is trying to be set on a copy of a slice from a DataFrame.\nTry using .loc[row_indexer,col_indexer] = value instead\n\nSee the caveats in the documentation: https://pandas.pydata.org/pandas-docs/stable/user_guide/indexing.html#returning-a-view-versus-a-copy\n  df_trimmed['Sex'] = df_trimmed['Sex'].str.capitalize()\n",
          "output_type": "stream"
        },
        {
          "execution_count": 4,
          "output_type": "execute_result",
          "data": {
            "text/plain": "     Pclass     Sex   Age  Survived\n0         3    Male  22.0         0\n1         1  Female  38.0         1\n2         3  Female  26.0         1\n3         1  Female  35.0         1\n4         3    Male  35.0         0\n..      ...     ...   ...       ...\n886       2    Male  27.0         0\n887       1  Female  19.0         1\n888       3  Female   NaN         0\n889       1    Male  26.0         1\n890       3    Male  32.0         0\n\n[891 rows x 4 columns]",
            "text/html": "<div>\n<style scoped>\n    .dataframe tbody tr th:only-of-type {\n        vertical-align: middle;\n    }\n\n    .dataframe tbody tr th {\n        vertical-align: top;\n    }\n\n    .dataframe thead th {\n        text-align: right;\n    }\n</style>\n<table border=\"1\" class=\"dataframe\">\n  <thead>\n    <tr style=\"text-align: right;\">\n      <th></th>\n      <th>Pclass</th>\n      <th>Sex</th>\n      <th>Age</th>\n      <th>Survived</th>\n    </tr>\n  </thead>\n  <tbody>\n    <tr>\n      <th>0</th>\n      <td>3</td>\n      <td>Male</td>\n      <td>22.0</td>\n      <td>0</td>\n    </tr>\n    <tr>\n      <th>1</th>\n      <td>1</td>\n      <td>Female</td>\n      <td>38.0</td>\n      <td>1</td>\n    </tr>\n    <tr>\n      <th>2</th>\n      <td>3</td>\n      <td>Female</td>\n      <td>26.0</td>\n      <td>1</td>\n    </tr>\n    <tr>\n      <th>3</th>\n      <td>1</td>\n      <td>Female</td>\n      <td>35.0</td>\n      <td>1</td>\n    </tr>\n    <tr>\n      <th>4</th>\n      <td>3</td>\n      <td>Male</td>\n      <td>35.0</td>\n      <td>0</td>\n    </tr>\n    <tr>\n      <th>...</th>\n      <td>...</td>\n      <td>...</td>\n      <td>...</td>\n      <td>...</td>\n    </tr>\n    <tr>\n      <th>886</th>\n      <td>2</td>\n      <td>Male</td>\n      <td>27.0</td>\n      <td>0</td>\n    </tr>\n    <tr>\n      <th>887</th>\n      <td>1</td>\n      <td>Female</td>\n      <td>19.0</td>\n      <td>1</td>\n    </tr>\n    <tr>\n      <th>888</th>\n      <td>3</td>\n      <td>Female</td>\n      <td>NaN</td>\n      <td>0</td>\n    </tr>\n    <tr>\n      <th>889</th>\n      <td>1</td>\n      <td>Male</td>\n      <td>26.0</td>\n      <td>1</td>\n    </tr>\n    <tr>\n      <th>890</th>\n      <td>3</td>\n      <td>Male</td>\n      <td>32.0</td>\n      <td>0</td>\n    </tr>\n  </tbody>\n</table>\n<p>891 rows × 4 columns</p>\n</div>"
          },
          "metadata": {}
        }
      ]
    },
    {
      "cell_type": "code",
      "source": "# Check for NA \ndf_trimmed.isnull().any()",
      "metadata": {
        "trusted": true
      },
      "execution_count": 5,
      "outputs": [
        {
          "execution_count": 5,
          "output_type": "execute_result",
          "data": {
            "text/plain": "Pclass      False\nSex         False\nAge          True\nSurvived    False\ndtype: bool"
          },
          "metadata": {}
        }
      ]
    },
    {
      "cell_type": "code",
      "source": "# From here, we can see that there are 177 passengers with NULL as their age. We will clean the NULL at the binning level.\n\ndf_trimmed.groupby(['Age'], dropna = False).size()",
      "metadata": {
        "trusted": true
      },
      "execution_count": 6,
      "outputs": [
        {
          "execution_count": 6,
          "output_type": "execute_result",
          "data": {
            "text/plain": "Age\n0.42       1\n0.67       1\n0.75       2\n0.83       2\n0.92       1\n        ... \n70.50      1\n71.00      2\n74.00      1\n80.00      1\nNaN      177\nLength: 89, dtype: int64"
          },
          "metadata": {}
        }
      ]
    },
    {
      "cell_type": "code",
      "source": "# Set up binning of different age group here using the categorisation here as a guideline: https://www.nih.gov/nih-style-guide/age\n# But we will merge 'Newborns' and 'Infants' and rename 'Older Adults' as 'Senior'\n\n# Infants (1 month to 1 year)\n# Children (1 year through 12 years)\n# Adolescents (13 years through 17 years. They may also be referred to as teenagers depending on the context.)\n# Adults (18 years or older)\n# Senior (65 and older)\n\nage_bins = [0,1,12,18,65,999]\ndf_trimmed = df_trimmed.assign(AgeGroup = pd.cut(x = df_trimmed['Age'], bins = age_bins, right = True, include_lowest = False, labels = ['Infants', 'Children', 'Adolescents', 'Adults', 'Senior']))",
      "metadata": {
        "trusted": true
      },
      "execution_count": 7,
      "outputs": []
    },
    {
      "cell_type": "code",
      "source": "# Add a new categori - 'Unknown' to group all passengers without NULL as their AgeGroup\ndf_trimmed['AgeGroup'] = df_trimmed['AgeGroup'].cat.add_categories('Unknown')\ndf_trimmed['AgeGroup'] = df_trimmed['AgeGroup'].fillna('Unknown')\n\n# Check if there is anymore NULL in the AgeGrou column\ndf_trimmed[df_trimmed.AgeGroup.isna()]",
      "metadata": {
        "trusted": true
      },
      "execution_count": 8,
      "outputs": [
        {
          "execution_count": 8,
          "output_type": "execute_result",
          "data": {
            "text/plain": "Empty DataFrame\nColumns: [Pclass, Sex, Age, Survived, AgeGroup]\nIndex: []",
            "text/html": "<div>\n<style scoped>\n    .dataframe tbody tr th:only-of-type {\n        vertical-align: middle;\n    }\n\n    .dataframe tbody tr th {\n        vertical-align: top;\n    }\n\n    .dataframe thead th {\n        text-align: right;\n    }\n</style>\n<table border=\"1\" class=\"dataframe\">\n  <thead>\n    <tr style=\"text-align: right;\">\n      <th></th>\n      <th>Pclass</th>\n      <th>Sex</th>\n      <th>Age</th>\n      <th>Survived</th>\n      <th>AgeGroup</th>\n    </tr>\n  </thead>\n  <tbody>\n  </tbody>\n</table>\n</div>"
          },
          "metadata": {}
        }
      ]
    },
    {
      "cell_type": "code",
      "source": "df_trimmed_sankey_1 = df_trimmed.groupby(by = ['Pclass', 'Sex'])['Survived'].count().reset_index().rename(columns={'Pclass': 'Source', 'Sex': 'Target', 'Survived': 'Value'}, inplace = False)\n\n# This forms the first sankey dataframe\ndf_trimmed_sankey_1",
      "metadata": {
        "trusted": true
      },
      "execution_count": 9,
      "outputs": [
        {
          "execution_count": 9,
          "output_type": "execute_result",
          "data": {
            "text/plain": "   Source  Target  Value\n0       1  Female     94\n1       1    Male    122\n2       2  Female     76\n3       2    Male    108\n4       3  Female    144\n5       3    Male    347",
            "text/html": "<div>\n<style scoped>\n    .dataframe tbody tr th:only-of-type {\n        vertical-align: middle;\n    }\n\n    .dataframe tbody tr th {\n        vertical-align: top;\n    }\n\n    .dataframe thead th {\n        text-align: right;\n    }\n</style>\n<table border=\"1\" class=\"dataframe\">\n  <thead>\n    <tr style=\"text-align: right;\">\n      <th></th>\n      <th>Source</th>\n      <th>Target</th>\n      <th>Value</th>\n    </tr>\n  </thead>\n  <tbody>\n    <tr>\n      <th>0</th>\n      <td>1</td>\n      <td>Female</td>\n      <td>94</td>\n    </tr>\n    <tr>\n      <th>1</th>\n      <td>1</td>\n      <td>Male</td>\n      <td>122</td>\n    </tr>\n    <tr>\n      <th>2</th>\n      <td>2</td>\n      <td>Female</td>\n      <td>76</td>\n    </tr>\n    <tr>\n      <th>3</th>\n      <td>2</td>\n      <td>Male</td>\n      <td>108</td>\n    </tr>\n    <tr>\n      <th>4</th>\n      <td>3</td>\n      <td>Female</td>\n      <td>144</td>\n    </tr>\n    <tr>\n      <th>5</th>\n      <td>3</td>\n      <td>Male</td>\n      <td>347</td>\n    </tr>\n  </tbody>\n</table>\n</div>"
          },
          "metadata": {}
        }
      ]
    },
    {
      "cell_type": "code",
      "source": "# Map the values within the Source column to their respective Pclasses\ndf_trimmed_sankey_1['Source'] = df_trimmed_sankey_1.Source.map({1: 'Pclass1', 2: 'Pclass2', 3: 'Pclass3'})\n\ndf_trimmed_sankey_1",
      "metadata": {
        "trusted": true
      },
      "execution_count": 10,
      "outputs": [
        {
          "execution_count": 10,
          "output_type": "execute_result",
          "data": {
            "text/plain": "    Source  Target  Value\n0  Pclass1  Female     94\n1  Pclass1    Male    122\n2  Pclass2  Female     76\n3  Pclass2    Male    108\n4  Pclass3  Female    144\n5  Pclass3    Male    347",
            "text/html": "<div>\n<style scoped>\n    .dataframe tbody tr th:only-of-type {\n        vertical-align: middle;\n    }\n\n    .dataframe tbody tr th {\n        vertical-align: top;\n    }\n\n    .dataframe thead th {\n        text-align: right;\n    }\n</style>\n<table border=\"1\" class=\"dataframe\">\n  <thead>\n    <tr style=\"text-align: right;\">\n      <th></th>\n      <th>Source</th>\n      <th>Target</th>\n      <th>Value</th>\n    </tr>\n  </thead>\n  <tbody>\n    <tr>\n      <th>0</th>\n      <td>Pclass1</td>\n      <td>Female</td>\n      <td>94</td>\n    </tr>\n    <tr>\n      <th>1</th>\n      <td>Pclass1</td>\n      <td>Male</td>\n      <td>122</td>\n    </tr>\n    <tr>\n      <th>2</th>\n      <td>Pclass2</td>\n      <td>Female</td>\n      <td>76</td>\n    </tr>\n    <tr>\n      <th>3</th>\n      <td>Pclass2</td>\n      <td>Male</td>\n      <td>108</td>\n    </tr>\n    <tr>\n      <th>4</th>\n      <td>Pclass3</td>\n      <td>Female</td>\n      <td>144</td>\n    </tr>\n    <tr>\n      <th>5</th>\n      <td>Pclass3</td>\n      <td>Male</td>\n      <td>347</td>\n    </tr>\n  </tbody>\n</table>\n</div>"
          },
          "metadata": {}
        }
      ]
    },
    {
      "cell_type": "code",
      "source": "df_trimmed_sankey_2 = df_trimmed.groupby(by = ['Sex', 'AgeGroup'])['Survived'].count().reset_index().rename(columns={'Sex': 'Source', 'AgeGroup': 'Target', 'Survived': 'Value'}, inplace = False)\n\n# This forms the second sankey dataframe\ndf_trimmed_sankey_2",
      "metadata": {
        "trusted": true
      },
      "execution_count": 11,
      "outputs": [
        {
          "execution_count": 11,
          "output_type": "execute_result",
          "data": {
            "text/plain": "    Source       Target  Value\n0   Female      Infants      4\n1   Female     Children     28\n2   Female  Adolescents     36\n3   Female       Adults    193\n4   Female       Senior      0\n5   Female      Unknown     53\n6     Male      Infants     10\n7     Male     Children     27\n8     Male  Adolescents     34\n9     Male       Adults    374\n10    Male       Senior      8\n11    Male      Unknown    124",
            "text/html": "<div>\n<style scoped>\n    .dataframe tbody tr th:only-of-type {\n        vertical-align: middle;\n    }\n\n    .dataframe tbody tr th {\n        vertical-align: top;\n    }\n\n    .dataframe thead th {\n        text-align: right;\n    }\n</style>\n<table border=\"1\" class=\"dataframe\">\n  <thead>\n    <tr style=\"text-align: right;\">\n      <th></th>\n      <th>Source</th>\n      <th>Target</th>\n      <th>Value</th>\n    </tr>\n  </thead>\n  <tbody>\n    <tr>\n      <th>0</th>\n      <td>Female</td>\n      <td>Infants</td>\n      <td>4</td>\n    </tr>\n    <tr>\n      <th>1</th>\n      <td>Female</td>\n      <td>Children</td>\n      <td>28</td>\n    </tr>\n    <tr>\n      <th>2</th>\n      <td>Female</td>\n      <td>Adolescents</td>\n      <td>36</td>\n    </tr>\n    <tr>\n      <th>3</th>\n      <td>Female</td>\n      <td>Adults</td>\n      <td>193</td>\n    </tr>\n    <tr>\n      <th>4</th>\n      <td>Female</td>\n      <td>Senior</td>\n      <td>0</td>\n    </tr>\n    <tr>\n      <th>5</th>\n      <td>Female</td>\n      <td>Unknown</td>\n      <td>53</td>\n    </tr>\n    <tr>\n      <th>6</th>\n      <td>Male</td>\n      <td>Infants</td>\n      <td>10</td>\n    </tr>\n    <tr>\n      <th>7</th>\n      <td>Male</td>\n      <td>Children</td>\n      <td>27</td>\n    </tr>\n    <tr>\n      <th>8</th>\n      <td>Male</td>\n      <td>Adolescents</td>\n      <td>34</td>\n    </tr>\n    <tr>\n      <th>9</th>\n      <td>Male</td>\n      <td>Adults</td>\n      <td>374</td>\n    </tr>\n    <tr>\n      <th>10</th>\n      <td>Male</td>\n      <td>Senior</td>\n      <td>8</td>\n    </tr>\n    <tr>\n      <th>11</th>\n      <td>Male</td>\n      <td>Unknown</td>\n      <td>124</td>\n    </tr>\n  </tbody>\n</table>\n</div>"
          },
          "metadata": {}
        }
      ]
    },
    {
      "cell_type": "code",
      "source": "df_trimmed_sankey_3 = df_trimmed.groupby(by = ['AgeGroup', 'Survived'])['Pclass'].count().reset_index().rename(columns={'AgeGroup': 'Source', 'Survived': 'Target', 'Pclass': 'Value'}, inplace = False)\n\n# This forms the third sankey dataframe\ndf_trimmed_sankey_3",
      "metadata": {
        "trusted": true
      },
      "execution_count": 12,
      "outputs": [
        {
          "execution_count": 12,
          "output_type": "execute_result",
          "data": {
            "text/plain": "         Source  Target  Value\n0       Infants       0      2\n1       Infants       1     12\n2      Children       0     27\n3      Children       1     28\n4   Adolescents       0     40\n5   Adolescents       1     30\n6        Adults       0    348\n7        Adults       1    219\n8        Senior       0      7\n9        Senior       1      1\n10      Unknown       0    125\n11      Unknown       1     52",
            "text/html": "<div>\n<style scoped>\n    .dataframe tbody tr th:only-of-type {\n        vertical-align: middle;\n    }\n\n    .dataframe tbody tr th {\n        vertical-align: top;\n    }\n\n    .dataframe thead th {\n        text-align: right;\n    }\n</style>\n<table border=\"1\" class=\"dataframe\">\n  <thead>\n    <tr style=\"text-align: right;\">\n      <th></th>\n      <th>Source</th>\n      <th>Target</th>\n      <th>Value</th>\n    </tr>\n  </thead>\n  <tbody>\n    <tr>\n      <th>0</th>\n      <td>Infants</td>\n      <td>0</td>\n      <td>2</td>\n    </tr>\n    <tr>\n      <th>1</th>\n      <td>Infants</td>\n      <td>1</td>\n      <td>12</td>\n    </tr>\n    <tr>\n      <th>2</th>\n      <td>Children</td>\n      <td>0</td>\n      <td>27</td>\n    </tr>\n    <tr>\n      <th>3</th>\n      <td>Children</td>\n      <td>1</td>\n      <td>28</td>\n    </tr>\n    <tr>\n      <th>4</th>\n      <td>Adolescents</td>\n      <td>0</td>\n      <td>40</td>\n    </tr>\n    <tr>\n      <th>5</th>\n      <td>Adolescents</td>\n      <td>1</td>\n      <td>30</td>\n    </tr>\n    <tr>\n      <th>6</th>\n      <td>Adults</td>\n      <td>0</td>\n      <td>348</td>\n    </tr>\n    <tr>\n      <th>7</th>\n      <td>Adults</td>\n      <td>1</td>\n      <td>219</td>\n    </tr>\n    <tr>\n      <th>8</th>\n      <td>Senior</td>\n      <td>0</td>\n      <td>7</td>\n    </tr>\n    <tr>\n      <th>9</th>\n      <td>Senior</td>\n      <td>1</td>\n      <td>1</td>\n    </tr>\n    <tr>\n      <th>10</th>\n      <td>Unknown</td>\n      <td>0</td>\n      <td>125</td>\n    </tr>\n    <tr>\n      <th>11</th>\n      <td>Unknown</td>\n      <td>1</td>\n      <td>52</td>\n    </tr>\n  </tbody>\n</table>\n</div>"
          },
          "metadata": {}
        }
      ]
    },
    {
      "cell_type": "code",
      "source": "# Map the values within the Target column to their respective Survival Status\ndf_trimmed_sankey_3['Target'] = df_trimmed_sankey_3.Target.map({0: 'Died', 1: 'Survived'})\n\ndf_trimmed_sankey_3",
      "metadata": {
        "trusted": true
      },
      "execution_count": 13,
      "outputs": [
        {
          "execution_count": 13,
          "output_type": "execute_result",
          "data": {
            "text/plain": "         Source    Target  Value\n0       Infants      Died      2\n1       Infants  Survived     12\n2      Children      Died     27\n3      Children  Survived     28\n4   Adolescents      Died     40\n5   Adolescents  Survived     30\n6        Adults      Died    348\n7        Adults  Survived    219\n8        Senior      Died      7\n9        Senior  Survived      1\n10      Unknown      Died    125\n11      Unknown  Survived     52",
            "text/html": "<div>\n<style scoped>\n    .dataframe tbody tr th:only-of-type {\n        vertical-align: middle;\n    }\n\n    .dataframe tbody tr th {\n        vertical-align: top;\n    }\n\n    .dataframe thead th {\n        text-align: right;\n    }\n</style>\n<table border=\"1\" class=\"dataframe\">\n  <thead>\n    <tr style=\"text-align: right;\">\n      <th></th>\n      <th>Source</th>\n      <th>Target</th>\n      <th>Value</th>\n    </tr>\n  </thead>\n  <tbody>\n    <tr>\n      <th>0</th>\n      <td>Infants</td>\n      <td>Died</td>\n      <td>2</td>\n    </tr>\n    <tr>\n      <th>1</th>\n      <td>Infants</td>\n      <td>Survived</td>\n      <td>12</td>\n    </tr>\n    <tr>\n      <th>2</th>\n      <td>Children</td>\n      <td>Died</td>\n      <td>27</td>\n    </tr>\n    <tr>\n      <th>3</th>\n      <td>Children</td>\n      <td>Survived</td>\n      <td>28</td>\n    </tr>\n    <tr>\n      <th>4</th>\n      <td>Adolescents</td>\n      <td>Died</td>\n      <td>40</td>\n    </tr>\n    <tr>\n      <th>5</th>\n      <td>Adolescents</td>\n      <td>Survived</td>\n      <td>30</td>\n    </tr>\n    <tr>\n      <th>6</th>\n      <td>Adults</td>\n      <td>Died</td>\n      <td>348</td>\n    </tr>\n    <tr>\n      <th>7</th>\n      <td>Adults</td>\n      <td>Survived</td>\n      <td>219</td>\n    </tr>\n    <tr>\n      <th>8</th>\n      <td>Senior</td>\n      <td>Died</td>\n      <td>7</td>\n    </tr>\n    <tr>\n      <th>9</th>\n      <td>Senior</td>\n      <td>Survived</td>\n      <td>1</td>\n    </tr>\n    <tr>\n      <th>10</th>\n      <td>Unknown</td>\n      <td>Died</td>\n      <td>125</td>\n    </tr>\n    <tr>\n      <th>11</th>\n      <td>Unknown</td>\n      <td>Survived</td>\n      <td>52</td>\n    </tr>\n  </tbody>\n</table>\n</div>"
          },
          "metadata": {}
        }
      ]
    },
    {
      "cell_type": "code",
      "source": "# Combine all sankey dataframe together\nsankey_main = pd.concat([df_trimmed_sankey_1, df_trimmed_sankey_2, df_trimmed_sankey_3], axis = 0)\n\n# We now need to manipulate the dataset in a way that plotly is able to understand in order to generate the Alluvial diagram\nsankey_main",
      "metadata": {
        "trusted": true
      },
      "execution_count": 14,
      "outputs": [
        {
          "execution_count": 14,
          "output_type": "execute_result",
          "data": {
            "text/plain": "         Source       Target  Value\n0       Pclass1       Female     94\n1       Pclass1         Male    122\n2       Pclass2       Female     76\n3       Pclass2         Male    108\n4       Pclass3       Female    144\n5       Pclass3         Male    347\n0        Female      Infants      4\n1        Female     Children     28\n2        Female  Adolescents     36\n3        Female       Adults    193\n4        Female       Senior      0\n5        Female      Unknown     53\n6          Male      Infants     10\n7          Male     Children     27\n8          Male  Adolescents     34\n9          Male       Adults    374\n10         Male       Senior      8\n11         Male      Unknown    124\n0       Infants         Died      2\n1       Infants     Survived     12\n2      Children         Died     27\n3      Children     Survived     28\n4   Adolescents         Died     40\n5   Adolescents     Survived     30\n6        Adults         Died    348\n7        Adults     Survived    219\n8        Senior         Died      7\n9        Senior     Survived      1\n10      Unknown         Died    125\n11      Unknown     Survived     52",
            "text/html": "<div>\n<style scoped>\n    .dataframe tbody tr th:only-of-type {\n        vertical-align: middle;\n    }\n\n    .dataframe tbody tr th {\n        vertical-align: top;\n    }\n\n    .dataframe thead th {\n        text-align: right;\n    }\n</style>\n<table border=\"1\" class=\"dataframe\">\n  <thead>\n    <tr style=\"text-align: right;\">\n      <th></th>\n      <th>Source</th>\n      <th>Target</th>\n      <th>Value</th>\n    </tr>\n  </thead>\n  <tbody>\n    <tr>\n      <th>0</th>\n      <td>Pclass1</td>\n      <td>Female</td>\n      <td>94</td>\n    </tr>\n    <tr>\n      <th>1</th>\n      <td>Pclass1</td>\n      <td>Male</td>\n      <td>122</td>\n    </tr>\n    <tr>\n      <th>2</th>\n      <td>Pclass2</td>\n      <td>Female</td>\n      <td>76</td>\n    </tr>\n    <tr>\n      <th>3</th>\n      <td>Pclass2</td>\n      <td>Male</td>\n      <td>108</td>\n    </tr>\n    <tr>\n      <th>4</th>\n      <td>Pclass3</td>\n      <td>Female</td>\n      <td>144</td>\n    </tr>\n    <tr>\n      <th>5</th>\n      <td>Pclass3</td>\n      <td>Male</td>\n      <td>347</td>\n    </tr>\n    <tr>\n      <th>0</th>\n      <td>Female</td>\n      <td>Infants</td>\n      <td>4</td>\n    </tr>\n    <tr>\n      <th>1</th>\n      <td>Female</td>\n      <td>Children</td>\n      <td>28</td>\n    </tr>\n    <tr>\n      <th>2</th>\n      <td>Female</td>\n      <td>Adolescents</td>\n      <td>36</td>\n    </tr>\n    <tr>\n      <th>3</th>\n      <td>Female</td>\n      <td>Adults</td>\n      <td>193</td>\n    </tr>\n    <tr>\n      <th>4</th>\n      <td>Female</td>\n      <td>Senior</td>\n      <td>0</td>\n    </tr>\n    <tr>\n      <th>5</th>\n      <td>Female</td>\n      <td>Unknown</td>\n      <td>53</td>\n    </tr>\n    <tr>\n      <th>6</th>\n      <td>Male</td>\n      <td>Infants</td>\n      <td>10</td>\n    </tr>\n    <tr>\n      <th>7</th>\n      <td>Male</td>\n      <td>Children</td>\n      <td>27</td>\n    </tr>\n    <tr>\n      <th>8</th>\n      <td>Male</td>\n      <td>Adolescents</td>\n      <td>34</td>\n    </tr>\n    <tr>\n      <th>9</th>\n      <td>Male</td>\n      <td>Adults</td>\n      <td>374</td>\n    </tr>\n    <tr>\n      <th>10</th>\n      <td>Male</td>\n      <td>Senior</td>\n      <td>8</td>\n    </tr>\n    <tr>\n      <th>11</th>\n      <td>Male</td>\n      <td>Unknown</td>\n      <td>124</td>\n    </tr>\n    <tr>\n      <th>0</th>\n      <td>Infants</td>\n      <td>Died</td>\n      <td>2</td>\n    </tr>\n    <tr>\n      <th>1</th>\n      <td>Infants</td>\n      <td>Survived</td>\n      <td>12</td>\n    </tr>\n    <tr>\n      <th>2</th>\n      <td>Children</td>\n      <td>Died</td>\n      <td>27</td>\n    </tr>\n    <tr>\n      <th>3</th>\n      <td>Children</td>\n      <td>Survived</td>\n      <td>28</td>\n    </tr>\n    <tr>\n      <th>4</th>\n      <td>Adolescents</td>\n      <td>Died</td>\n      <td>40</td>\n    </tr>\n    <tr>\n      <th>5</th>\n      <td>Adolescents</td>\n      <td>Survived</td>\n      <td>30</td>\n    </tr>\n    <tr>\n      <th>6</th>\n      <td>Adults</td>\n      <td>Died</td>\n      <td>348</td>\n    </tr>\n    <tr>\n      <th>7</th>\n      <td>Adults</td>\n      <td>Survived</td>\n      <td>219</td>\n    </tr>\n    <tr>\n      <th>8</th>\n      <td>Senior</td>\n      <td>Died</td>\n      <td>7</td>\n    </tr>\n    <tr>\n      <th>9</th>\n      <td>Senior</td>\n      <td>Survived</td>\n      <td>1</td>\n    </tr>\n    <tr>\n      <th>10</th>\n      <td>Unknown</td>\n      <td>Died</td>\n      <td>125</td>\n    </tr>\n    <tr>\n      <th>11</th>\n      <td>Unknown</td>\n      <td>Survived</td>\n      <td>52</td>\n    </tr>\n  </tbody>\n</table>\n</div>"
          },
          "metadata": {}
        }
      ]
    },
    {
      "cell_type": "code",
      "source": "# This allows us to retrieve the unique categorical values under the Source and Target columns\nunique_source_target = list(pd.unique(list(sankey_main[['Source', 'Target']].values.ravel('K'))))\n\n# We will use this for the mapping dictionary later\nunique_source_target",
      "metadata": {
        "trusted": true
      },
      "execution_count": 15,
      "outputs": [
        {
          "execution_count": 15,
          "output_type": "execute_result",
          "data": {
            "text/plain": "['Pclass1',\n 'Pclass2',\n 'Pclass3',\n 'Female',\n 'Male',\n 'Infants',\n 'Children',\n 'Adolescents',\n 'Adults',\n 'Senior',\n 'Unknown',\n 'Died',\n 'Survived']"
          },
          "metadata": {}
        }
      ]
    },
    {
      "cell_type": "code",
      "source": "# This allows us to assign a unique value to each categorical value\nmapping_dict = {k:v for v, k in enumerate(unique_source_target)}\n\nmapping_dict",
      "metadata": {
        "trusted": true
      },
      "execution_count": 16,
      "outputs": [
        {
          "execution_count": 16,
          "output_type": "execute_result",
          "data": {
            "text/plain": "{'Pclass1': 0,\n 'Pclass2': 1,\n 'Pclass3': 2,\n 'Female': 3,\n 'Male': 4,\n 'Infants': 5,\n 'Children': 6,\n 'Adolescents': 7,\n 'Adults': 8,\n 'Senior': 9,\n 'Unknown': 10,\n 'Died': 11,\n 'Survived': 12}"
          },
          "metadata": {}
        }
      ]
    },
    {
      "cell_type": "code",
      "source": "# We will now apply the mapping dictionary back to the Source and Target column\nsankey_main['Source'] = sankey_main['Source'].map(mapping_dict)\nsankey_main['Target'] = sankey_main['Target'].map(mapping_dict)\n\nsankey_main",
      "metadata": {
        "trusted": true
      },
      "execution_count": 17,
      "outputs": [
        {
          "execution_count": 17,
          "output_type": "execute_result",
          "data": {
            "text/plain": "    Source  Target  Value\n0        0       3     94\n1        0       4    122\n2        1       3     76\n3        1       4    108\n4        2       3    144\n5        2       4    347\n0        3       5      4\n1        3       6     28\n2        3       7     36\n3        3       8    193\n4        3       9      0\n5        3      10     53\n6        4       5     10\n7        4       6     27\n8        4       7     34\n9        4       8    374\n10       4       9      8\n11       4      10    124\n0        5      11      2\n1        5      12     12\n2        6      11     27\n3        6      12     28\n4        7      11     40\n5        7      12     30\n6        8      11    348\n7        8      12    219\n8        9      11      7\n9        9      12      1\n10      10      11    125\n11      10      12     52",
            "text/html": "<div>\n<style scoped>\n    .dataframe tbody tr th:only-of-type {\n        vertical-align: middle;\n    }\n\n    .dataframe tbody tr th {\n        vertical-align: top;\n    }\n\n    .dataframe thead th {\n        text-align: right;\n    }\n</style>\n<table border=\"1\" class=\"dataframe\">\n  <thead>\n    <tr style=\"text-align: right;\">\n      <th></th>\n      <th>Source</th>\n      <th>Target</th>\n      <th>Value</th>\n    </tr>\n  </thead>\n  <tbody>\n    <tr>\n      <th>0</th>\n      <td>0</td>\n      <td>3</td>\n      <td>94</td>\n    </tr>\n    <tr>\n      <th>1</th>\n      <td>0</td>\n      <td>4</td>\n      <td>122</td>\n    </tr>\n    <tr>\n      <th>2</th>\n      <td>1</td>\n      <td>3</td>\n      <td>76</td>\n    </tr>\n    <tr>\n      <th>3</th>\n      <td>1</td>\n      <td>4</td>\n      <td>108</td>\n    </tr>\n    <tr>\n      <th>4</th>\n      <td>2</td>\n      <td>3</td>\n      <td>144</td>\n    </tr>\n    <tr>\n      <th>5</th>\n      <td>2</td>\n      <td>4</td>\n      <td>347</td>\n    </tr>\n    <tr>\n      <th>0</th>\n      <td>3</td>\n      <td>5</td>\n      <td>4</td>\n    </tr>\n    <tr>\n      <th>1</th>\n      <td>3</td>\n      <td>6</td>\n      <td>28</td>\n    </tr>\n    <tr>\n      <th>2</th>\n      <td>3</td>\n      <td>7</td>\n      <td>36</td>\n    </tr>\n    <tr>\n      <th>3</th>\n      <td>3</td>\n      <td>8</td>\n      <td>193</td>\n    </tr>\n    <tr>\n      <th>4</th>\n      <td>3</td>\n      <td>9</td>\n      <td>0</td>\n    </tr>\n    <tr>\n      <th>5</th>\n      <td>3</td>\n      <td>10</td>\n      <td>53</td>\n    </tr>\n    <tr>\n      <th>6</th>\n      <td>4</td>\n      <td>5</td>\n      <td>10</td>\n    </tr>\n    <tr>\n      <th>7</th>\n      <td>4</td>\n      <td>6</td>\n      <td>27</td>\n    </tr>\n    <tr>\n      <th>8</th>\n      <td>4</td>\n      <td>7</td>\n      <td>34</td>\n    </tr>\n    <tr>\n      <th>9</th>\n      <td>4</td>\n      <td>8</td>\n      <td>374</td>\n    </tr>\n    <tr>\n      <th>10</th>\n      <td>4</td>\n      <td>9</td>\n      <td>8</td>\n    </tr>\n    <tr>\n      <th>11</th>\n      <td>4</td>\n      <td>10</td>\n      <td>124</td>\n    </tr>\n    <tr>\n      <th>0</th>\n      <td>5</td>\n      <td>11</td>\n      <td>2</td>\n    </tr>\n    <tr>\n      <th>1</th>\n      <td>5</td>\n      <td>12</td>\n      <td>12</td>\n    </tr>\n    <tr>\n      <th>2</th>\n      <td>6</td>\n      <td>11</td>\n      <td>27</td>\n    </tr>\n    <tr>\n      <th>3</th>\n      <td>6</td>\n      <td>12</td>\n      <td>28</td>\n    </tr>\n    <tr>\n      <th>4</th>\n      <td>7</td>\n      <td>11</td>\n      <td>40</td>\n    </tr>\n    <tr>\n      <th>5</th>\n      <td>7</td>\n      <td>12</td>\n      <td>30</td>\n    </tr>\n    <tr>\n      <th>6</th>\n      <td>8</td>\n      <td>11</td>\n      <td>348</td>\n    </tr>\n    <tr>\n      <th>7</th>\n      <td>8</td>\n      <td>12</td>\n      <td>219</td>\n    </tr>\n    <tr>\n      <th>8</th>\n      <td>9</td>\n      <td>11</td>\n      <td>7</td>\n    </tr>\n    <tr>\n      <th>9</th>\n      <td>9</td>\n      <td>12</td>\n      <td>1</td>\n    </tr>\n    <tr>\n      <th>10</th>\n      <td>10</td>\n      <td>11</td>\n      <td>125</td>\n    </tr>\n    <tr>\n      <th>11</th>\n      <td>10</td>\n      <td>12</td>\n      <td>52</td>\n    </tr>\n  </tbody>\n</table>\n</div>"
          },
          "metadata": {}
        }
      ]
    },
    {
      "cell_type": "code",
      "source": "sankey_main = sankey_main.to_dict(orient = 'list')\n\nsankey_main",
      "metadata": {
        "trusted": true
      },
      "execution_count": 18,
      "outputs": [
        {
          "execution_count": 18,
          "output_type": "execute_result",
          "data": {
            "text/plain": "{'Source': [0,\n  0,\n  1,\n  1,\n  2,\n  2,\n  3,\n  3,\n  3,\n  3,\n  3,\n  3,\n  4,\n  4,\n  4,\n  4,\n  4,\n  4,\n  5,\n  5,\n  6,\n  6,\n  7,\n  7,\n  8,\n  8,\n  9,\n  9,\n  10,\n  10],\n 'Target': [3,\n  4,\n  3,\n  4,\n  3,\n  4,\n  5,\n  6,\n  7,\n  8,\n  9,\n  10,\n  5,\n  6,\n  7,\n  8,\n  9,\n  10,\n  11,\n  12,\n  11,\n  12,\n  11,\n  12,\n  11,\n  12,\n  11,\n  12,\n  11,\n  12],\n 'Value': [94,\n  122,\n  76,\n  108,\n  144,\n  347,\n  4,\n  28,\n  36,\n  193,\n  0,\n  53,\n  10,\n  27,\n  34,\n  374,\n  8,\n  124,\n  2,\n  12,\n  27,\n  28,\n  40,\n  30,\n  348,\n  219,\n  7,\n  1,\n  125,\n  52]}"
          },
          "metadata": {}
        }
      ]
    },
    {
      "cell_type": "markdown",
      "source": "As I am currently using Jupyterlite which doesn't have Plotly installed as a module. I am unable to build the Alluvial diagram here. All the data exploration and manipulation has been completed here. From this point onwards, I will be transferring the minimum required code to Sublime Text 3 in order to develop the chart there using Plotly.",
      "metadata": {
        "jp-MarkdownHeadingCollapsed": true,
        "tags": []
      }
    }
  ]
}